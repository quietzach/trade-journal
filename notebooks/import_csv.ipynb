{
 "cells": [
  {
   "cell_type": "code",
   "execution_count": 1,
   "metadata": {},
   "outputs": [],
   "source": [
    "import pandas as pd"
   ]
  },
  {
   "cell_type": "code",
   "execution_count": 2,
   "metadata": {},
   "outputs": [
    {
     "data": {
      "text/html": [
       "<div>\n",
       "<style scoped>\n",
       "    .dataframe tbody tr th:only-of-type {\n",
       "        vertical-align: middle;\n",
       "    }\n",
       "\n",
       "    .dataframe tbody tr th {\n",
       "        vertical-align: top;\n",
       "    }\n",
       "\n",
       "    .dataframe thead th {\n",
       "        text-align: right;\n",
       "    }\n",
       "</style>\n",
       "<table border=\"1\" class=\"dataframe\">\n",
       "  <thead>\n",
       "    <tr style=\"text-align: right;\">\n",
       "      <th></th>\n",
       "      <th>Timestamp</th>\n",
       "      <th>Symbol</th>\n",
       "      <th>Quantity</th>\n",
       "      <th>Price</th>\n",
       "      <th>Side</th>\n",
       "      <th>Commission</th>\n",
       "      <th>Fee</th>\n",
       "      <th>Type</th>\n",
       "    </tr>\n",
       "  </thead>\n",
       "  <tbody>\n",
       "    <tr>\n",
       "      <th>0</th>\n",
       "      <td>2011-10-06T14:48:00.000Z</td>\n",
       "      <td>SPY</td>\n",
       "      <td>100</td>\n",
       "      <td>100.1</td>\n",
       "      <td>Buy</td>\n",
       "      <td>9.95</td>\n",
       "      <td>0.00</td>\n",
       "      <td>SHARE</td>\n",
       "    </tr>\n",
       "    <tr>\n",
       "      <th>1</th>\n",
       "      <td>2011-10-07T14:48:00.000Z</td>\n",
       "      <td>SPY</td>\n",
       "      <td>100</td>\n",
       "      <td>101.5</td>\n",
       "      <td>Sell</td>\n",
       "      <td>9.95</td>\n",
       "      <td>0.02</td>\n",
       "      <td>SHARE</td>\n",
       "    </tr>\n",
       "  </tbody>\n",
       "</table>\n",
       "</div>"
      ],
      "text/plain": [
       "                  Timestamp Symbol  Quantity  Price  Side  Commission   Fee  \\\n",
       "0  2011-10-06T14:48:00.000Z    SPY       100  100.1   Buy        9.95  0.00   \n",
       "1  2011-10-07T14:48:00.000Z    SPY       100  101.5  Sell        9.95  0.02   \n",
       "\n",
       "    Type  \n",
       "0  SHARE  \n",
       "1  SHARE  "
      ]
     },
     "metadata": {},
     "output_type": "display_data"
    }
   ],
   "source": [
    "df = pd.read_csv('template.csv')\n",
    "display(df)"
   ]
  },
  {
   "cell_type": "code",
   "execution_count": null,
   "metadata": {},
   "outputs": [],
   "source": [
    "df['Timestamp'] = df['Timestamp'].dt.tz_localize('UTC').dt.tz_convert('America/New_York')"
   ]
  },
  {
   "cell_type": "code",
   "execution_count": 9,
   "metadata": {},
   "outputs": [
    {
     "data": {
      "text/html": [
       "<div>\n",
       "<style scoped>\n",
       "    .dataframe tbody tr th:only-of-type {\n",
       "        vertical-align: middle;\n",
       "    }\n",
       "\n",
       "    .dataframe tbody tr th {\n",
       "        vertical-align: top;\n",
       "    }\n",
       "\n",
       "    .dataframe thead th {\n",
       "        text-align: right;\n",
       "    }\n",
       "</style>\n",
       "<table border=\"1\" class=\"dataframe\">\n",
       "  <thead>\n",
       "    <tr style=\"text-align: right;\">\n",
       "      <th></th>\n",
       "      <th>Timestamp</th>\n",
       "      <th>Symbol</th>\n",
       "      <th>Quantity</th>\n",
       "      <th>Price</th>\n",
       "      <th>Side</th>\n",
       "      <th>Commission</th>\n",
       "      <th>Fee</th>\n",
       "      <th>Type</th>\n",
       "    </tr>\n",
       "  </thead>\n",
       "  <tbody>\n",
       "    <tr>\n",
       "      <th>0</th>\n",
       "      <td>2011-10-06 10:48:00-04:00</td>\n",
       "      <td>SPY</td>\n",
       "      <td>100</td>\n",
       "      <td>100.1</td>\n",
       "      <td>Buy</td>\n",
       "      <td>9.95</td>\n",
       "      <td>0.00</td>\n",
       "      <td>SHARE</td>\n",
       "    </tr>\n",
       "    <tr>\n",
       "      <th>1</th>\n",
       "      <td>2011-10-07 10:48:00-04:00</td>\n",
       "      <td>SPY</td>\n",
       "      <td>100</td>\n",
       "      <td>101.5</td>\n",
       "      <td>Sell</td>\n",
       "      <td>9.95</td>\n",
       "      <td>0.02</td>\n",
       "      <td>SHARE</td>\n",
       "    </tr>\n",
       "  </tbody>\n",
       "</table>\n",
       "</div>"
      ],
      "text/plain": [
       "                  Timestamp Symbol  Quantity  Price  Side  Commission   Fee  \\\n",
       "0 2011-10-06 10:48:00-04:00    SPY       100  100.1   Buy        9.95  0.00   \n",
       "1 2011-10-07 10:48:00-04:00    SPY       100  101.5  Sell        9.95  0.02   \n",
       "\n",
       "    Type  \n",
       "0  SHARE  \n",
       "1  SHARE  "
      ]
     },
     "metadata": {},
     "output_type": "display_data"
    }
   ],
   "source": [
    "df['Timestamp'] = pd.to_datetime(df['Timestamp'], infer_datetime_format=True)\n",
    "df['Timestamp'] = df['Timestamp'].dt.tz_convert('America/New_York')\n",
    "df = df.sort_values(by='Timestamp')\n",
    "display(df)"
   ]
  },
  {
   "cell_type": "code",
   "execution_count": 4,
   "metadata": {},
   "outputs": [
    {
     "name": "stdout",
     "output_type": "stream",
     "text": [
      "{'buy'}\n",
      "Timestamp: 2011-10-06 14:48:00+00:00, Ticker: SPY, Quantity: 100, Price: 100.1, Side: Buy, Commission: 9.95, Fee: 0.0, Type: SHARE\n",
      "{'sell'}\n",
      "Timestamp: 2011-10-07 14:48:00+00:00, Ticker: SPY, Quantity: 100, Price: 101.5, Side: Sell, Commission: 9.95, Fee: 0.02, Type: SHARE\n"
     ]
    }
   ],
   "source": [
    "for row in df.itertuples(index=False):\n",
    "    timestamp = row.Timestamp\n",
    "    ticker = row.Symbol\n",
    "    quantity = row.Quantity\n",
    "    price = row.Price\n",
    "    side = row.Side\n",
    "    commission = row.Commission\n",
    "    fee = row.Fee\n",
    "    type = row.Type\n",
    "    \n",
    "    print({side.lower()})\n",
    "    \n",
    "    print(f'Timestamp: {timestamp}, Ticker: {ticker}, Quantity: {quantity}, Price: {price}, Side: {side}, Commission: {commission}, Fee: {fee}, Type: {type}')"
   ]
  }
 ],
 "metadata": {
  "kernelspec": {
   "display_name": "Python 3",
   "language": "python",
   "name": "python3"
  },
  "language_info": {
   "codemirror_mode": {
    "name": "ipython",
    "version": 3
   },
   "file_extension": ".py",
   "mimetype": "text/x-python",
   "name": "python",
   "nbconvert_exporter": "python",
   "pygments_lexer": "ipython3",
   "version": "3.7.9"
  }
 },
 "nbformat": 4,
 "nbformat_minor": 4
}
