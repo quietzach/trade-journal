{
 "cells": [
  {
   "cell_type": "code",
   "execution_count": 1,
   "metadata": {},
   "outputs": [],
   "source": [
    "from enum import Enum\n",
    "\n",
    "class Side(Enum):\n",
    "    BUY = 1\n",
    "    SELL = -1\n",
    "\n",
    "class Status(Enum):\n",
    "    OPEN = 0\n",
    "    BE = 1\n",
    "    WIN = 2\n",
    "    LOSS = 3\n",
    "\n",
    "class Execution:\n",
    "    def __init__(self, side, traded_price, traded_quantity, execution_date, fees=0, commission=0):\n",
    "        self.side = side\n",
    "        self.traded_price = traded_price\n",
    "        self.traded_quantity = traded_quantity\n",
    "        self.execution_date = execution_date\n",
    "        self.fees = fees\n",
    "        self.value = traded_price * traded_quantity\n",
    "        self.commission = commission\n",
    "    \n",
    "    def data(self):\n",
    "        data = dict()\n",
    "        data['execution_date'] = self.execution_date\n",
    "        data['side'] = self.side.name\n",
    "        data['traded_price'] = self.traded_price\n",
    "        data['traded_quantity'] = self.traded_quantity\n",
    "        data['value'] = self.value\n",
    "        data['fees'] = self.fees\n",
    "        data['commission'] = self.commission\n",
    "        return data\n",
    "    \n",
    "    def __str__(self):\n",
    "        return f'{self.side}, {self.traded_price}, {self.traded_quantity}'\n",
    "\n",
    "\n",
    "class Order:\n",
    "    def __init__(self, ticker, execution):\n",
    "        self.ticker = ticker\n",
    "        self.net_position = 0  # current size\n",
    "        self.avg_open_price = 0\n",
    "        self.net_investment = 0\n",
    "        self.realized_pnl = 0\n",
    "        self.unrealized_pnl = 0\n",
    "        self.total_pnl = 0\n",
    "        self.is_open = True\n",
    "        self.executions = []\n",
    "        self.max_size = 0\n",
    "        self.status = Status.OPEN\n",
    "        self.total_fees = 0\n",
    "        self.total_commissions = 0\n",
    "        self.update_by_tradefeed(execution)\n",
    "        \n",
    "    def update_by_tradefeed(self, execution):\n",
    "        self.executions.append(execution)\n",
    "        self.total_fees += execution.fees\n",
    "        self.total_commissions += execution.commission\n",
    "        \n",
    "        # buy: positive position, sell: negative position\n",
    "        quantity_with_direction = execution.side.value * execution.traded_quantity\n",
    "    \n",
    "        self.is_open = (self.net_position * quantity_with_direction) >= 0\n",
    "        \n",
    "        # net investment\n",
    "        self.net_investment = max( self.net_investment, abs( self.net_position * self.avg_open_price  ) )\n",
    "        \n",
    "        # realized pnl\n",
    "        if not self.is_open:\n",
    "            # Remember to keep the sign as the net position\n",
    "            self.realized_pnl += ( execution.traded_price - self.avg_open_price ) *  min( \n",
    "                    abs(quantity_with_direction), \n",
    "                    abs(self.net_position) \n",
    "                ) * ( abs(self.net_position) / self.net_position )\n",
    "            \n",
    "        # total pnl\n",
    "        self.total_pnl = self.realized_pnl + self.unrealized_pnl\n",
    "        \n",
    "        # avg open price\n",
    "        if self.is_open:\n",
    "            self.avg_open_price = ( ( self.avg_open_price * self.net_position ) + \n",
    "                ( execution.traded_price * quantity_with_direction ) ) / ( self.net_position + quantity_with_direction )\n",
    "        else:\n",
    "            # Check if it is close-and-open\n",
    "            if execution.traded_quantity > abs(self.net_position):\n",
    "                self.avg_open_price = execution.traded_price\n",
    "            else:\n",
    "                self.status = Status.WIN if self.total_pnl > 0 else (\n",
    "                              Status.LOSS if self.total_pnl < 0 else Status.BE\n",
    "                )\n",
    "        \n",
    "        # net position\n",
    "        self.net_position += quantity_with_direction\n",
    "        \n",
    "        self.max_size = max(self.max_size, self.net_position)\n",
    "\n",
    "    def update_by_marketdata(self, last_price):\n",
    "        self.unrealized_pnl = ( last_price - self.avg_open_price ) * self.net_position\n",
    "        self.total_pnl = self.realized_pnl + self.unrealized_pnl\n",
    "    \n",
    "    def data(self):\n",
    "        data = dict()\n",
    "        data['status'] = self.status.name\n",
    "        data['size'] = self.max_size\n",
    "        data['cost'] = self.max_size * self.avg_open_price\n",
    "        data['avg_open_price'] = self.avg_open_price\n",
    "        data['avg_close_price'] = self.avg_open_price + self.total_pnl / self.max_size if self.net_position == 0 else None\n",
    "        data['return'] = self.total_pnl if self.net_position == 0 else None\n",
    "        data['return_percent'] = self.total_pnl / (self.max_size * self.avg_open_price) if self.net_position == 0 else None\n",
    "        data['total_commissions'] = self.total_commissions\n",
    "        data['total_fees'] = self.total_fees\n",
    "        return data"
   ]
  },
  {
   "cell_type": "code",
   "execution_count": 2,
   "metadata": {},
   "outputs": [
    {
     "data": {
      "text/plain": [
       "10"
      ]
     },
     "execution_count": 2,
     "metadata": {},
     "output_type": "execute_result"
    }
   ],
   "source": [
    "order = Order('AAPL', Execution(Side.BUY, 109.75, 10, None))\n",
    "order.net_position"
   ]
  },
  {
   "cell_type": "code",
   "execution_count": 3,
   "metadata": {},
   "outputs": [],
   "source": [
    "order.update_by_tradefeed(Execution(Side.BUY, 110, 10, None))"
   ]
  },
  {
   "cell_type": "code",
   "execution_count": 4,
   "metadata": {},
   "outputs": [],
   "source": [
    "order.update_by_tradefeed(Execution(Side.SELL, 111, 20, None))"
   ]
  },
  {
   "cell_type": "code",
   "execution_count": 5,
   "metadata": {},
   "outputs": [
    {
     "data": {
      "text/plain": [
       "22.5"
      ]
     },
     "execution_count": 5,
     "metadata": {},
     "output_type": "execute_result"
    }
   ],
   "source": [
    "order.total_pnl"
   ]
  },
  {
   "cell_type": "code",
   "execution_count": 6,
   "metadata": {},
   "outputs": [
    {
     "data": {
      "text/plain": [
       "False"
      ]
     },
     "execution_count": 6,
     "metadata": {},
     "output_type": "execute_result"
    }
   ],
   "source": [
    "order.is_open"
   ]
  },
  {
   "cell_type": "code",
   "execution_count": 7,
   "metadata": {},
   "outputs": [
    {
     "data": {
      "text/plain": [
       "0"
      ]
     },
     "execution_count": 7,
     "metadata": {},
     "output_type": "execute_result"
    }
   ],
   "source": [
    "order.unrealized_pnl"
   ]
  },
  {
   "cell_type": "code",
   "execution_count": 8,
   "metadata": {},
   "outputs": [
    {
     "data": {
      "text/plain": [
       "<__main__.Execution at 0x7fa0d1151b90>"
      ]
     },
     "execution_count": 8,
     "metadata": {},
     "output_type": "execute_result"
    }
   ],
   "source": [
    "order.executions[0]"
   ]
  },
  {
   "cell_type": "code",
   "execution_count": 9,
   "metadata": {},
   "outputs": [
    {
     "data": {
      "text/plain": [
       "22.5"
      ]
     },
     "execution_count": 9,
     "metadata": {},
     "output_type": "execute_result"
    }
   ],
   "source": [
    "order.total_pnl"
   ]
  },
  {
   "cell_type": "code",
   "execution_count": 10,
   "metadata": {},
   "outputs": [
    {
     "data": {
      "text/plain": [
       "109.875"
      ]
     },
     "execution_count": 10,
     "metadata": {},
     "output_type": "execute_result"
    }
   ],
   "source": [
    "order.avg_open_price"
   ]
  },
  {
   "cell_type": "code",
   "execution_count": 11,
   "metadata": {},
   "outputs": [
    {
     "data": {
      "text/plain": [
       "109.875"
      ]
     },
     "execution_count": 11,
     "metadata": {},
     "output_type": "execute_result"
    }
   ],
   "source": [
    "(110*10 + 109.75*10)/20"
   ]
  },
  {
   "cell_type": "code",
   "execution_count": 12,
   "metadata": {},
   "outputs": [
    {
     "data": {
      "text/html": [
       "<div>\n",
       "<style scoped>\n",
       "    .dataframe tbody tr th:only-of-type {\n",
       "        vertical-align: middle;\n",
       "    }\n",
       "\n",
       "    .dataframe tbody tr th {\n",
       "        vertical-align: top;\n",
       "    }\n",
       "\n",
       "    .dataframe thead th {\n",
       "        text-align: right;\n",
       "    }\n",
       "</style>\n",
       "<table border=\"1\" class=\"dataframe\">\n",
       "  <thead>\n",
       "    <tr style=\"text-align: right;\">\n",
       "      <th></th>\n",
       "      <th>commission</th>\n",
       "      <th>execution_date</th>\n",
       "      <th>fees</th>\n",
       "      <th>side</th>\n",
       "      <th>traded_price</th>\n",
       "      <th>traded_quantity</th>\n",
       "      <th>value</th>\n",
       "    </tr>\n",
       "  </thead>\n",
       "  <tbody>\n",
       "    <tr>\n",
       "      <th>0</th>\n",
       "      <td>0</td>\n",
       "      <td>None</td>\n",
       "      <td>0</td>\n",
       "      <td>BUY</td>\n",
       "      <td>109.75</td>\n",
       "      <td>10</td>\n",
       "      <td>1097.5</td>\n",
       "    </tr>\n",
       "    <tr>\n",
       "      <th>1</th>\n",
       "      <td>0</td>\n",
       "      <td>None</td>\n",
       "      <td>0</td>\n",
       "      <td>BUY</td>\n",
       "      <td>110.00</td>\n",
       "      <td>10</td>\n",
       "      <td>1100.0</td>\n",
       "    </tr>\n",
       "    <tr>\n",
       "      <th>2</th>\n",
       "      <td>0</td>\n",
       "      <td>None</td>\n",
       "      <td>0</td>\n",
       "      <td>SELL</td>\n",
       "      <td>111.00</td>\n",
       "      <td>20</td>\n",
       "      <td>2220.0</td>\n",
       "    </tr>\n",
       "  </tbody>\n",
       "</table>\n",
       "</div>"
      ],
      "text/plain": [
       "   commission execution_date  fees  side  traded_price  traded_quantity  \\\n",
       "0           0           None     0   BUY        109.75               10   \n",
       "1           0           None     0   BUY        110.00               10   \n",
       "2           0           None     0  SELL        111.00               20   \n",
       "\n",
       "    value  \n",
       "0  1097.5  \n",
       "1  1100.0  \n",
       "2  2220.0  "
      ]
     },
     "execution_count": 12,
     "metadata": {},
     "output_type": "execute_result"
    }
   ],
   "source": [
    "import pandas as pd\n",
    "\n",
    "pd.DataFrame([e.data() for e in order.executions])"
   ]
  },
  {
   "cell_type": "code",
   "execution_count": 13,
   "metadata": {},
   "outputs": [
    {
     "data": {
      "text/html": [
       "<div>\n",
       "<style scoped>\n",
       "    .dataframe tbody tr th:only-of-type {\n",
       "        vertical-align: middle;\n",
       "    }\n",
       "\n",
       "    .dataframe tbody tr th {\n",
       "        vertical-align: top;\n",
       "    }\n",
       "\n",
       "    .dataframe thead th {\n",
       "        text-align: right;\n",
       "    }\n",
       "</style>\n",
       "<table border=\"1\" class=\"dataframe\">\n",
       "  <thead>\n",
       "    <tr style=\"text-align: right;\">\n",
       "      <th></th>\n",
       "      <th>avg_close_price</th>\n",
       "      <th>avg_open_price</th>\n",
       "      <th>cost</th>\n",
       "      <th>return</th>\n",
       "      <th>return_percent</th>\n",
       "      <th>size</th>\n",
       "      <th>status</th>\n",
       "      <th>total_commissions</th>\n",
       "      <th>total_fees</th>\n",
       "    </tr>\n",
       "  </thead>\n",
       "  <tbody>\n",
       "    <tr>\n",
       "      <th>0</th>\n",
       "      <td>111.0</td>\n",
       "      <td>109.875</td>\n",
       "      <td>2197.5</td>\n",
       "      <td>22.5</td>\n",
       "      <td>0.010239</td>\n",
       "      <td>20</td>\n",
       "      <td>WIN</td>\n",
       "      <td>0</td>\n",
       "      <td>0</td>\n",
       "    </tr>\n",
       "  </tbody>\n",
       "</table>\n",
       "</div>"
      ],
      "text/plain": [
       "   avg_close_price  avg_open_price    cost  return  return_percent  size  \\\n",
       "0            111.0         109.875  2197.5    22.5        0.010239    20   \n",
       "\n",
       "  status  total_commissions  total_fees  \n",
       "0    WIN                  0           0  "
      ]
     },
     "metadata": {},
     "output_type": "display_data"
    }
   ],
   "source": [
    "order_df = pd.DataFrame([order.data()])\n",
    "display(order_df)"
   ]
  },
  {
   "cell_type": "code",
   "execution_count": 14,
   "metadata": {},
   "outputs": [
    {
     "data": {
      "text/plain": [
       "False"
      ]
     },
     "execution_count": 14,
     "metadata": {},
     "output_type": "execute_result"
    }
   ],
   "source": [
    "order.is_open"
   ]
  }
 ],
 "metadata": {
  "kernelspec": {
   "display_name": "Python 3",
   "language": "python",
   "name": "python3"
  },
  "language_info": {
   "codemirror_mode": {
    "name": "ipython",
    "version": 3
   },
   "file_extension": ".py",
   "mimetype": "text/x-python",
   "name": "python",
   "nbconvert_exporter": "python",
   "pygments_lexer": "ipython3",
   "version": "3.7.9"
  }
 },
 "nbformat": 4,
 "nbformat_minor": 4
}
